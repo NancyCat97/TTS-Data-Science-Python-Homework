{
 "cells": [
  {
   "cell_type": "markdown",
   "id": "2d19f6f3",
   "metadata": {},
   "source": [
    "<b> 02 and 03 Exercises </b>"
   ]
  },
  {
   "cell_type": "markdown",
   "id": "fc841134",
   "metadata": {},
   "source": [
    "<b> 02 Exercises - Data Structures <b>"
   ]
  },
  {
   "cell_type": "markdown",
   "id": "62ff64de",
   "metadata": {},
   "source": [
    "Take the following two lists. Create a third list by picking a odd-index elements from the first list and even-index elements from the second.\n",
    "\n",
    "listOne = [3, 6, 9, 12, 15, 18, 21]\n",
    "listTwo = [4, 8, 12, 16, 20, 24, 28]"
   ]
  },
  {
   "cell_type": "code",
   "execution_count": 2,
   "id": "7554ca94",
   "metadata": {},
   "outputs": [
    {
     "name": "stdout",
     "output_type": "stream",
     "text": [
      "[4, 6, 12, 12, 20, 18, 28]\n"
     ]
    }
   ],
   "source": [
    "listOne = [3, 6, 9, 12, 15, 18, 21]\n",
    "listTwo = [4, 8, 12, 16, 20, 24, 28]\n",
    "resultList = [] # the result will go here\n",
    "\n",
    "# Loop through the lists using the index values.\n",
    "# Each list has 7 elements so we'll use a range of 7\n",
    "for i in range(7):\n",
    "    if i % 2 == 0: # is i even?\n",
    "        # If i is even, add element from listTwo.\n",
    "        resultList.append(listTwo[i])\n",
    "    else:\n",
    "        # If i is odd, add element from listOne.\n",
    "        resultList.append(listOne[i])\n",
    "        \n",
    "# Print the result\n",
    "print(resultList)"
   ]
  },
  {
   "cell_type": "markdown",
   "id": "6ab75264",
   "metadata": {},
   "source": [
    "Take the following list. Slice it into three equal chunks and reverse each list.\n",
    "\n",
    "sampleList = [11, 45, 8, 23, 14, 12, 78, 45, 89]"
   ]
  },
  {
   "cell_type": "code",
   "execution_count": 5,
   "id": "9f89b102",
   "metadata": {},
   "outputs": [
    {
     "name": "stdout",
     "output_type": "stream",
     "text": [
      "[8, 45, 11] [12, 14, 23] [89, 45, 78]\n"
     ]
    }
   ],
   "source": [
    "sampleList = [11, 45, 8, 23, 14, 12, 78, 45, 89]\n",
    "slice_size = len(sampleList) // 3 # use integer division\n",
    "\n",
    "# Get the three chunks, and use [::-1] to reverse them.\n",
    "chunk1 = sampleList[:slice_size][::-1]    \n",
    "chunk2 = sampleList[slice_size:slice_size * 2][::-1]\n",
    "chunk3 = sampleList[slice_size * 2:][::-1]\n",
    "\n",
    "print(chunk1, chunk2, chunk3)"
   ]
  },
  {
   "cell_type": "markdown",
   "id": "eaa97400",
   "metadata": {},
   "source": [
    "Iterate through a given list and check if a given element already exists in a dictionary as a key’s value. If not, delete it from the list.\n",
    "\n",
    "rollNumber = [47, 64, 69, 37, 76, 83, 95, 97]\n",
    "sampleDict ={'Zach':47, 'Emma':69, 'Kelly':76, 'Jason':97}"
   ]
  },
  {
   "cell_type": "markdown",
   "id": "b9249698",
   "metadata": {},
   "source": [
    "Write a simple statement to check whether an element exists within a tuple."
   ]
  },
  {
   "cell_type": "code",
   "execution_count": 6,
   "id": "73cc5416",
   "metadata": {},
   "outputs": [
    {
     "name": "stdout",
     "output_type": "stream",
     "text": [
      "[47, 69, 76, 97]\n"
     ]
    }
   ],
   "source": [
    "rollNum = [47,64,69,37,76,83,95,97]\n",
    "sampleDict = {'Zach':47, 'Emma':69, 'Kelly':76, 'Jason':97}\n",
    "i = 0\n",
    "while i < len(rollNum):\n",
    "    if rollNum[i] in sampleDict.values():\n",
    "        i += 1 # keep this element\n",
    "    else:\n",
    "        del rollNum[i] # delete this element; don't increment i because the next element\n",
    "                       # (that was in position i+1) is now in position i\n",
    "print(rollNum)"
   ]
  },
  {
   "cell_type": "markdown",
   "id": "9c3672b7",
   "metadata": {},
   "source": [
    "Write a Python function to multiply all the numbers in a list."
   ]
  },
  {
   "cell_type": "code",
   "execution_count": 10,
   "id": "ff578435",
   "metadata": {},
   "outputs": [
    {
     "name": "stdout",
     "output_type": "stream",
     "text": [
      "22848\n"
     ]
    }
   ],
   "source": [
    "def multiply_nums(lst):\n",
    "    product = 1\n",
    "    for elem in lst:\n",
    "        product *= elem\n",
    "    return product\n",
    "\n",
    "# example:\n",
    "inputlist = [12,34,56]\n",
    "result = multiply_nums(inputlist)\n",
    "print (result)"
   ]
  },
  {
   "cell_type": "markdown",
   "id": "646b97a3",
   "metadata": {},
   "source": [
    "Write a Python program to reverse a string. Hint: Use indexing [start:stop:step]"
   ]
  },
  {
   "cell_type": "code",
   "execution_count": 12,
   "id": "5e35d7ac",
   "metadata": {},
   "outputs": [
    {
     "name": "stdout",
     "output_type": "stream",
     "text": [
      "dlroW olleH\n"
     ]
    }
   ],
   "source": [
    "def reverse(stringtoreverse):\n",
    "    # Use slicing with a step of -1 to reverse the string.\n",
    "    return stringtoreverse[::-1]\n",
    "\n",
    "# example:\n",
    "inputstring = \"Hello World\"\n",
    "result = reverse(inputstring)\n",
    "print(result)"
   ]
  },
  {
   "cell_type": "markdown",
   "id": "c825cadc",
   "metadata": {},
   "source": [
    "Describe the difference between floats, integers, and binarys. Bonus: Describe the difference between precision types (i.e float32 and float64) and the relationship it has with system memory."
   ]
  },
  {
   "cell_type": "code",
   "execution_count": null,
   "id": "5dc3f463",
   "metadata": {},
   "outputs": [],
   "source": [
    "# Floats are floating point values. Integers are whole numbers. Binarys are either 0 (False) or 1 (True). "
   ]
  },
  {
   "cell_type": "markdown",
   "id": "1105fac8",
   "metadata": {},
   "source": [
    "Describe the difference between a list, tuple, dict, and set."
   ]
  },
  {
   "cell_type": "code",
   "execution_count": null,
   "id": "26c78688",
   "metadata": {},
   "outputs": [],
   "source": [
    "# List: An ordered collection of elements.\n",
    "# Tuple: Like a list, but immutable.\n",
    "# Dict (dictionary): Collection of unique unordered elements - key/value pairs.\n",
    "# Set: Collection of unordered elements that are all unique."
   ]
  },
  {
   "cell_type": "markdown",
   "id": "85c3d93e",
   "metadata": {},
   "source": [
    "Describe 3 methods or functions that act upon a list, tuple, dict, and strings (12 total). If citing the same method, describe how it might behave differently between data."
   ]
  },
  {
   "cell_type": "markdown",
   "id": "9422d85e",
   "metadata": {},
   "source": [
    "list:\n",
    "\n",
    "tuple:\n",
    "\n",
    "dict:\n",
    "\n",
    "string: "
   ]
  },
  {
   "cell_type": "markdown",
   "id": "8a435dab",
   "metadata": {},
   "source": [
    "<b> 03 Exercises - Control Flow <b>"
   ]
  },
  {
   "cell_type": "markdown",
   "id": "da83b7f2",
   "metadata": {},
   "source": [
    "Use a for-loop, iterate over a list, and print each item.\n",
    "\n",
    "list: [1,2,3,4,5,6,7,8,9]"
   ]
  },
  {
   "cell_type": "code",
   "execution_count": 14,
   "id": "4c789431",
   "metadata": {},
   "outputs": [
    {
     "name": "stdout",
     "output_type": "stream",
     "text": [
      "1\n",
      "2\n",
      "3\n",
      "4\n",
      "5\n"
     ]
    }
   ],
   "source": [
    "def print_list(lst):\n",
    "    for elem in lst:\n",
    "        print(elem)\n",
    "\n",
    "inputList = [1,2,3,4,5]\n",
    "        \n",
    "print_list(inputList)"
   ]
  },
  {
   "cell_type": "markdown",
   "id": "4e0e9e7c",
   "metadata": {},
   "source": [
    "Using the last code you wrote, print whether the item is even or odd. Hint: Use an if-else sequence and modulus condition."
   ]
  },
  {
   "cell_type": "code",
   "execution_count": 15,
   "id": "84d6a899",
   "metadata": {},
   "outputs": [
    {
     "name": "stdout",
     "output_type": "stream",
     "text": [
      "1 is odd.\n",
      "2 is even.\n",
      "3 is odd.\n",
      "4 is even.\n",
      "5 is odd.\n"
     ]
    }
   ],
   "source": [
    "def print_even_odd(lst):\n",
    "    for elem in lst:\n",
    "        if elem % 2 == 0:\n",
    "            print(f\"{elem} is even.\")\n",
    "        else:\n",
    "            print(f\"{elem} is odd.\")\n",
    "\n",
    "inputList = [1,2,3,4,5]\n",
    "print_even_odd(inputList) "
   ]
  },
  {
   "cell_type": "markdown",
   "id": "277a4c8d",
   "metadata": {},
   "source": [
    "Using the last code you wrote, break out of the sequence when the for iteration count is greater than 7. Bonus: Make it break out when the prime number count equals 4 (1,2,3, and 7). "
   ]
  },
  {
   "cell_type": "code",
   "execution_count": 16,
   "id": "3ff4656d",
   "metadata": {},
   "outputs": [
    {
     "name": "stdout",
     "output_type": "stream",
     "text": [
      "1 is odd.\n",
      "2 is even.\n",
      "3 is odd.\n",
      "4 is even.\n",
      "5 is odd.\n",
      "6 is even.\n",
      "7 is odd.\n",
      "8 is even.\n"
     ]
    }
   ],
   "source": [
    "def print_even_odd(lst):\n",
    "    # Use enumerate() to get the index and element at the same time!\n",
    "    for (i, elem) in enumerate(lst):\n",
    "        if i > 7:\n",
    "            break\n",
    "        if elem % 2 == 0:\n",
    "            print(f\"{elem} is even.\")\n",
    "        else:\n",
    "            print(f\"{elem} is odd.\")\n",
    "        \n",
    "inputList = [1,2,3,4,5,6,7,8,9,10] # we're gonna need a bigger list than in the earlier examples\n",
    "print_even_odd(inputList) "
   ]
  },
  {
   "cell_type": "markdown",
   "id": "9cb145d6",
   "metadata": {},
   "source": [
    "Guess a number between 1 to 9 given by the user. Hint: Look into the \"random\" function."
   ]
  },
  {
   "cell_type": "code",
   "execution_count": 17,
   "id": "c0ed71db",
   "metadata": {},
   "outputs": [
    {
     "name": "stdout",
     "output_type": "stream",
     "text": [
      "I'm thinking of a number between 1 and 9, inclusive. Take a guess!: 3\n",
      "Your number was too low! Guess again?\n",
      "Type your new guess to keep playing, or type any non-number to give up: 6\n",
      "Your number was too low! Guess again?\n",
      "Type your new guess to keep playing, or type any non-number to give up: 8\n",
      "You got it, congrats!\n"
     ]
    }
   ],
   "source": [
    "from random import randint\n",
    "\n",
    "def number_game():\n",
    "    '''Prompt the user to guess a random number.'''\n",
    "    \n",
    "    # Randomly select a number from 1 to 9, inclusive.\n",
    "    chosen_num = randint(1, 9)\n",
    "    \n",
    "    # Take the user's guess as input and turn it into an int.\n",
    "    guess = int(input(\"I'm thinking of a number between 1 and 9, inclusive. Take a guess!: \"))\n",
    "    \n",
    "    # Loop until the user correctly guesses the number or gives up.\n",
    "    while guess != chosen_num:\n",
    "        if guess < chosen_num:\n",
    "            print(\"Your number was too low! Guess again?\")\n",
    "        else:\n",
    "            print(\"Your number was too high! Guess again?\")\n",
    "        guess = input(\"Type your new guess to keep playing, or type any non-number to give up: \")\n",
    "        \n",
    "        # End the game if they didn't guess a number.\n",
    "        if not guess.isdigit():\n",
    "            return \"Thanks for playing!\" # return breaks out of the function\n",
    "        \n",
    "        # Otherwise, turn their guess into an int and check whether it matches the randomly selected number.\n",
    "        guess = int(guess)\n",
    "    \n",
    "    return \"You got it, congrats!\"\n",
    "\n",
    "\n",
    "# Call the function and print the results.\n",
    "game_result = number_game()\n",
    "print(game_result)"
   ]
  },
  {
   "cell_type": "markdown",
   "id": "50163b68",
   "metadata": {},
   "source": [
    "Check the validity of password input by the user. It must pass these tests:\n",
    "\n",
    "Minimum of 1 letter between [a-z] and 1 letter between [A-Z]\n",
    "\n",
    "Minimum of 1 number between [0-9]\n",
    "\n",
    "Minimum of 1 character from [$#@]\n",
    "\n",
    "Minimum of 6 total characters\n",
    "\n",
    "Maximum of 16 characters"
   ]
  },
  {
   "cell_type": "code",
   "execution_count": null,
   "id": "088a1972",
   "metadata": {},
   "outputs": [],
   "source": [
    "# Pulled from 02-03 homework"
   ]
  },
  {
   "cell_type": "markdown",
   "id": "57d4ce96",
   "metadata": {},
   "source": [
    "Get input of the age of 3 people by user and determine oldest and youngest among them"
   ]
  },
  {
   "cell_type": "code",
   "execution_count": 18,
   "id": "f8ebc6bb",
   "metadata": {},
   "outputs": [
    {
     "name": "stdout",
     "output_type": "stream",
     "text": [
      "Please enter the ages of three people, and I'll tell you who's oldest and youngest.\n",
      "First person's age: 42\n",
      "Second person's age: 44\n",
      "Third person's age: 46\n",
      "The youngest is 42 years old.\n",
      "The oldest is 46 years old.\n"
     ]
    }
   ],
   "source": [
    "print(\"Please enter the ages of three people, and I'll tell you who's oldest and youngest.\")\n",
    "age1 = int(input(\"First person's age: \"))\n",
    "age2 = int(input(\"Second person's age: \"))\n",
    "age3 = int(input(\"Third person's age: \"))\n",
    "\n",
    "# Use the min and max functions to get the youngest and oldest ages.\n",
    "youngest_age = min(age1, age2, age3)\n",
    "oldest_age = max(age1, age2, age3)\n",
    "\n",
    "print(f\"The youngest is {youngest_age} years old.\")\n",
    "print(f\"The oldest is {oldest_age} years old.\")"
   ]
  },
  {
   "cell_type": "markdown",
   "id": "49683521",
   "metadata": {},
   "source": [
    "A student will not be allowed to sit in exam if his/her attendance is less than 75%. Print percentage of class attended.\n",
    "\n",
    "Take following input from user: number of classes held, number of classes attended\n",
    "\n",
    "Is student is allowed to sit in exam or not?"
   ]
  },
  {
   "cell_type": "code",
   "execution_count": 20,
   "id": "6a713967",
   "metadata": {},
   "outputs": [
    {
     "name": "stdout",
     "output_type": "stream",
     "text": [
      "How many classes were there?: 10\n",
      "How many did the student attend?: 2\n",
      "The student attended 20.0% of classes.\n",
      "The student cannot take this exam.\n"
     ]
    }
   ],
   "source": [
    "num_classes = int(input(\"How many classes were there?: \"))\n",
    "num_attended = int(input(\"How many did the student attend?: \"))\n",
    "percent = 100 * num_attended / num_classes # Here we want a decimal multiplied by 100 to get a percentage.\n",
    "print(f\"The student attended {percent}% of classes.\")\n",
    "if percent < 75:\n",
    "    print(\"The student cannot take this exam.\")\n",
    "else:\n",
    "    print(\"The student may take the exam.\")"
   ]
  },
  {
   "cell_type": "markdown",
   "id": "9809d83e",
   "metadata": {},
   "source": [
    "Get an integer N from the user and perform the following actions:\n",
    "\n",
    "if N is odd, print \"weird\"\n",
    "\n",
    "if N is even and in the inclusive range of 2 to 5, print \"Not Weird\"\n",
    "\n",
    "if N is even and in the inclusive range of 6 to 20, print \"Weird\"\n",
    "\n",
    "if N is even and greater than 20, print \"Not Weird\""
   ]
  },
  {
   "cell_type": "code",
   "execution_count": 29,
   "id": "5ae304c1",
   "metadata": {},
   "outputs": [
    {
     "name": "stdout",
     "output_type": "stream",
     "text": [
      "Pick a number, is it weird?: 22\n",
      "Not weird.\n"
     ]
    }
   ],
   "source": [
    "n = int(input(\"Pick a number, is it weird?: \"))\n",
    "\n",
    "# Odd numbers are always weird\n",
    "if n % 2 == 1:\n",
    "    print(\"Weird.\")\n",
    "# Nothing weird about even numbers from 2-5 (i.e. 2 and 4)\n",
    "elif 2 <= n <= 5:\n",
    "    print(\"Not weird.\")\n",
    "# Even numbers from 6-20 are weird\n",
    "elif 6 <= n <= 20:\n",
    "    print(\"Weird.\")\n",
    "# If it reaches this condition, the number must be even and greater than 20 so it's not weird\n",
    "else:\n",
    "    print(\"Not weird.\")"
   ]
  },
  {
   "cell_type": "markdown",
   "id": "4981afa6",
   "metadata": {},
   "source": [
    "Define \"recursion\""
   ]
  },
  {
   "cell_type": "code",
   "execution_count": null,
   "id": "bba9d892",
   "metadata": {},
   "outputs": [],
   "source": [
    "# A recursive function calls itself."
   ]
  },
  {
   "cell_type": "markdown",
   "id": "37446795",
   "metadata": {},
   "source": [
    "Describe the difference between a for-loop and while-loop"
   ]
  },
  {
   "cell_type": "code",
   "execution_count": null,
   "id": "41a19fbf",
   "metadata": {},
   "outputs": [],
   "source": [
    "# A for-loop runs through each element in a sequence.\n",
    "# A while-loop runs until the condition it's checking against is false."
   ]
  },
  {
   "cell_type": "markdown",
   "id": "a4726330",
   "metadata": {},
   "source": [
    "Describe what \"global i\" refers to in the following code, and how it differs from local i."
   ]
  },
  {
   "cell_type": "code",
   "execution_count": 3,
   "id": "2c17bb30",
   "metadata": {},
   "outputs": [
    {
     "name": "stdout",
     "output_type": "stream",
     "text": [
      "2\n",
      "5\n",
      "5\n"
     ]
    }
   ],
   "source": [
    "i=2 # i is a global variable\n",
    "print(i) # i = 2\n",
    "\n",
    "def nothing():\n",
    "    global i # i is still a global variable\n",
    "    i=5      \n",
    "    print(i) # i = 5\n",
    "nothing()\n",
    "print(i)\n",
    "# i = 5 because it was set to 5 within nothing() as a global var\n",
    "# if i had not been specified local within nothing(), it would still be 2 on the global level,\n",
    "# because it would be out of scope."
   ]
  },
  {
   "cell_type": "markdown",
   "id": "99bbec99",
   "metadata": {},
   "source": [
    "Comment the following code."
   ]
  },
  {
   "cell_type": "code",
   "execution_count": 30,
   "id": "181d5fa6",
   "metadata": {},
   "outputs": [
    {
     "name": "stdout",
     "output_type": "stream",
     "text": [
      "[1, 1, 2, 3, 5, 8, 13, 21, 34, 55, 89]\n"
     ]
    }
   ],
   "source": [
    "a, b = 0, 1 # a=0, b=1\n",
    "amax = 100\n",
    "L = []\n",
    "\n",
    "while True: # we will loop \"forever\" (caveat, there is a break statement so we won't actually be looping forever)\n",
    "    (a, b) = (b, a + b) #0,1 = 1, 0+1\n",
    "    if a > amax: # once a is greater than 100, we will break out of the loop\n",
    "        break\n",
    "    L.append(a)\n",
    "\n",
    "print(L) # once we've broken out of the loop, print the final list"
   ]
  },
  {
   "cell_type": "markdown",
   "id": "f417cd5b",
   "metadata": {},
   "source": [
    "<b> Bonus Exercises </b>"
   ]
  },
  {
   "cell_type": "markdown",
   "id": "5eea9b56",
   "metadata": {},
   "source": [
    "Bonus: Write a Python function to convert a tuple to a string."
   ]
  },
  {
   "cell_type": "code",
   "execution_count": null,
   "id": "dd50e2f8",
   "metadata": {},
   "outputs": [],
   "source": []
  },
  {
   "cell_type": "markdown",
   "id": "8b6604eb",
   "metadata": {},
   "source": [
    "Bonus: Write a Python program to print a tuple with string formatting. You will need to look into print function parameters and string formatting methods."
   ]
  },
  {
   "cell_type": "code",
   "execution_count": null,
   "id": "10aa0dab",
   "metadata": {},
   "outputs": [],
   "source": []
  },
  {
   "cell_type": "markdown",
   "id": "d22b9747",
   "metadata": {},
   "source": [
    "Bonus: Define what a \"hash\" is. Then, get a space-separated list of integers from the user, create a tuple of those integers. Then compute and print the result of hash(tuple).  [Hint](https://docs.python.org/3/library/functions.html#hash). **Hash()**\n",
    "\n",
    "A **[hash](https://en.wikipedia.org/wiki/Hash_function)** is an fixed sized integer that identifies a particular value. Each value needs to have its own hash, so for the same value you will get the same hash even if it's not the same object."
   ]
  },
  {
   "cell_type": "code",
   "execution_count": null,
   "id": "b9ccab42",
   "metadata": {},
   "outputs": [],
   "source": []
  },
  {
   "cell_type": "markdown",
   "id": "4cf6ba94",
   "metadata": {},
   "source": [
    "Bonus: In mathematics, the quadratic equation ax2+bx+c=0 can be solved with the formula x=−b±√((b2−4ac)/2a).\n",
    "\n",
    "Write a function solve_quadratic, that returns both solutions of a generic quadratic as a pair (2-tuple) when the coefficients are given as parameters. It should work like this:\n",
    "\n",
    "print(solve_quadratic(1,-3,2))\n",
    "(2.0,1.0)\n",
    "print(solve_quadratic(1,2,1))\n",
    "(-1.0,-1.0)\n",
    "You may want to use the math.sqrt function from the math module in your solution. Test that your function works in the main function!"
   ]
  },
  {
   "cell_type": "code",
   "execution_count": null,
   "id": "23b36302",
   "metadata": {},
   "outputs": [],
   "source": []
  },
  {
   "cell_type": "markdown",
   "id": "09eb1a66",
   "metadata": {},
   "source": [
    "Bonus: Write a Python function that accepts a string and calculate the number of upper case letters and lower case letters."
   ]
  },
  {
   "cell_type": "code",
   "execution_count": null,
   "id": "fb698d22",
   "metadata": {},
   "outputs": [],
   "source": []
  },
  {
   "cell_type": "markdown",
   "id": "9c555a0e",
   "metadata": {},
   "source": [
    "<b> Final Bonus: Recursion </b>\n",
    "\n",
    "Tower of Hanoi (Python Program)\n",
    "\n",
    "Tower of Hanoi is a mathematical puzzle where we have three rods and n disks. The objective of the puzzle is to move the entire stack to another rod, obeying the following simple rules:\n",
    "\n",
    "Only one disk can be moved at a time.\n",
    "Each move consists of taking the upper disk from one of the stacks and placing it on top of another stack i.e. a disk can only be moved if it is the uppermost disk on a stack.\n",
    "No disk may be placed on top of a smaller disk.\n",
    "Note: Transferring the top n-1 disks from source rod to Auxilliary rod can again be thought of as a fresh problem and can be solved in the same manner.\n",
    "\n",
    "See image and solution in Notebook-Python-0303. "
   ]
  },
  {
   "cell_type": "code",
   "execution_count": null,
   "id": "6640ab46",
   "metadata": {},
   "outputs": [],
   "source": []
  }
 ],
 "metadata": {
  "kernelspec": {
   "display_name": "Python 3 (ipykernel)",
   "language": "python",
   "name": "python3"
  },
  "language_info": {
   "codemirror_mode": {
    "name": "ipython",
    "version": 3
   },
   "file_extension": ".py",
   "mimetype": "text/x-python",
   "name": "python",
   "nbconvert_exporter": "python",
   "pygments_lexer": "ipython3",
   "version": "3.10.9"
  }
 },
 "nbformat": 4,
 "nbformat_minor": 5
}
