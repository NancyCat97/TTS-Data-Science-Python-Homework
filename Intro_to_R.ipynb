{
 "cells": [
  {
   "cell_type": "code",
   "execution_count": 20,
   "id": "4ee18889",
   "metadata": {},
   "outputs": [],
   "source": [
    "# Creating vectors/factors and dataframes\n",
    "# Create the vectors/factors\n",
    "sex <- c(\"M\", \"F\")\n",
    "stage <- c(\"I\",\"II\",\"II\")\n",
    "treatment <- c(\"A\",\"A\",\"A\",\"A\",\"B\",\"B\",\"B\",\"B\",\"P\",\"P\",\"P\",\"P\")\n",
    "myc <- c(\"2343\",\"457\",\"4593\",\"9035\",\"3450\",\"3524\",\"958\",\"1053\",\"8674\",\"3424\",\"463\",\"5105\")"
   ]
  },
  {
   "cell_type": "code",
   "execution_count": 21,
   "id": "2daede43",
   "metadata": {},
   "outputs": [],
   "source": [
    "# Create a dataframe from the above\n",
    "meta <- data.frame(sex, stage, treatment, myc)"
   ]
  },
  {
   "cell_type": "code",
   "execution_count": 22,
   "id": "447a16c7",
   "metadata": {},
   "outputs": [],
   "source": [
    "# Add row names to the dataframe\n",
    "rownames(meta) <- paste(\"sample\", 1:12, sep=\"\")"
   ]
  },
  {
   "cell_type": "code",
   "execution_count": 23,
   "id": "87deedad",
   "metadata": {},
   "outputs": [
    {
     "data": {
      "text/html": [
       "<table>\n",
       "<thead><tr><th></th><th scope=col>sex</th><th scope=col>stage</th><th scope=col>treatment</th><th scope=col>myc</th></tr></thead>\n",
       "<tbody>\n",
       "\t<tr><th scope=row>sample1</th><td>M   </td><td>I   </td><td>A   </td><td>2343</td></tr>\n",
       "\t<tr><th scope=row>sample2</th><td>F   </td><td>II  </td><td>A   </td><td>457 </td></tr>\n",
       "\t<tr><th scope=row>sample3</th><td>M   </td><td>II  </td><td>A   </td><td>4593</td></tr>\n",
       "\t<tr><th scope=row>sample4</th><td>F   </td><td>I   </td><td>A   </td><td>9035</td></tr>\n",
       "\t<tr><th scope=row>sample5</th><td>M   </td><td>II  </td><td>B   </td><td>3450</td></tr>\n",
       "\t<tr><th scope=row>sample6</th><td>F   </td><td>II  </td><td>B   </td><td>3524</td></tr>\n",
       "\t<tr><th scope=row>sample7</th><td>M   </td><td>I   </td><td>B   </td><td>958 </td></tr>\n",
       "\t<tr><th scope=row>sample8</th><td>F   </td><td>II  </td><td>B   </td><td>1053</td></tr>\n",
       "\t<tr><th scope=row>sample9</th><td>M   </td><td>II  </td><td>P   </td><td>8674</td></tr>\n",
       "\t<tr><th scope=row>sample10</th><td>F   </td><td>I   </td><td>P   </td><td>3424</td></tr>\n",
       "\t<tr><th scope=row>sample11</th><td>M   </td><td>II  </td><td>P   </td><td>463 </td></tr>\n",
       "\t<tr><th scope=row>sample12</th><td>F   </td><td>II  </td><td>P   </td><td>5105</td></tr>\n",
       "</tbody>\n",
       "</table>\n"
      ],
      "text/latex": [
       "\\begin{tabular}{r|llll}\n",
       "  & sex & stage & treatment & myc\\\\\n",
       "\\hline\n",
       "\tsample1 & M    & I    & A    & 2343\\\\\n",
       "\tsample2 & F    & II   & A    & 457 \\\\\n",
       "\tsample3 & M    & II   & A    & 4593\\\\\n",
       "\tsample4 & F    & I    & A    & 9035\\\\\n",
       "\tsample5 & M    & II   & B    & 3450\\\\\n",
       "\tsample6 & F    & II   & B    & 3524\\\\\n",
       "\tsample7 & M    & I    & B    & 958 \\\\\n",
       "\tsample8 & F    & II   & B    & 1053\\\\\n",
       "\tsample9 & M    & II   & P    & 8674\\\\\n",
       "\tsample10 & F    & I    & P    & 3424\\\\\n",
       "\tsample11 & M    & II   & P    & 463 \\\\\n",
       "\tsample12 & F    & II   & P    & 5105\\\\\n",
       "\\end{tabular}\n"
      ],
      "text/markdown": [
       "\n",
       "| <!--/--> | sex | stage | treatment | myc |\n",
       "|---|---|---|---|---|\n",
       "| sample1 | M    | I    | A    | 2343 |\n",
       "| sample2 | F    | II   | A    | 457  |\n",
       "| sample3 | M    | II   | A    | 4593 |\n",
       "| sample4 | F    | I    | A    | 9035 |\n",
       "| sample5 | M    | II   | B    | 3450 |\n",
       "| sample6 | F    | II   | B    | 3524 |\n",
       "| sample7 | M    | I    | B    | 958  |\n",
       "| sample8 | F    | II   | B    | 1053 |\n",
       "| sample9 | M    | II   | P    | 8674 |\n",
       "| sample10 | F    | I    | P    | 3424 |\n",
       "| sample11 | M    | II   | P    | 463  |\n",
       "| sample12 | F    | II   | P    | 5105 |\n",
       "\n"
      ],
      "text/plain": [
       "         sex stage treatment myc \n",
       "sample1  M   I     A         2343\n",
       "sample2  F   II    A         457 \n",
       "sample3  M   II    A         4593\n",
       "sample4  F   I     A         9035\n",
       "sample5  M   II    B         3450\n",
       "sample6  F   II    B         3524\n",
       "sample7  M   I     B         958 \n",
       "sample8  F   II    B         1053\n",
       "sample9  M   II    P         8674\n",
       "sample10 F   I     P         3424\n",
       "sample11 M   II    P         463 \n",
       "sample12 F   II    P         5105"
      ]
     },
     "metadata": {},
     "output_type": "display_data"
    }
   ],
   "source": [
    "# Here is the dataframe\n",
    "meta"
   ]
  },
  {
   "cell_type": "code",
   "execution_count": 24,
   "id": "607ce4c3",
   "metadata": {},
   "outputs": [
    {
     "data": {
      "text/html": [
       "<table>\n",
       "<thead><tr><th></th><th scope=col>sex</th><th scope=col>treatment</th></tr></thead>\n",
       "<tbody>\n",
       "\t<tr><th scope=row>sample1</th><td>M</td><td>A</td></tr>\n",
       "\t<tr><th scope=row>sample2</th><td>F</td><td>A</td></tr>\n",
       "\t<tr><th scope=row>sample3</th><td>M</td><td>A</td></tr>\n",
       "\t<tr><th scope=row>sample4</th><td>F</td><td>A</td></tr>\n",
       "\t<tr><th scope=row>sample5</th><td>M</td><td>B</td></tr>\n",
       "\t<tr><th scope=row>sample6</th><td>F</td><td>B</td></tr>\n",
       "\t<tr><th scope=row>sample7</th><td>M</td><td>B</td></tr>\n",
       "\t<tr><th scope=row>sample8</th><td>F</td><td>B</td></tr>\n",
       "\t<tr><th scope=row>sample9</th><td>M</td><td>P</td></tr>\n",
       "\t<tr><th scope=row>sample10</th><td>F</td><td>P</td></tr>\n",
       "\t<tr><th scope=row>sample11</th><td>M</td><td>P</td></tr>\n",
       "\t<tr><th scope=row>sample12</th><td>F</td><td>P</td></tr>\n",
       "</tbody>\n",
       "</table>\n"
      ],
      "text/latex": [
       "\\begin{tabular}{r|ll}\n",
       "  & sex & treatment\\\\\n",
       "\\hline\n",
       "\tsample1 & M & A\\\\\n",
       "\tsample2 & F & A\\\\\n",
       "\tsample3 & M & A\\\\\n",
       "\tsample4 & F & A\\\\\n",
       "\tsample5 & M & B\\\\\n",
       "\tsample6 & F & B\\\\\n",
       "\tsample7 & M & B\\\\\n",
       "\tsample8 & F & B\\\\\n",
       "\tsample9 & M & P\\\\\n",
       "\tsample10 & F & P\\\\\n",
       "\tsample11 & M & P\\\\\n",
       "\tsample12 & F & P\\\\\n",
       "\\end{tabular}\n"
      ],
      "text/markdown": [
       "\n",
       "| <!--/--> | sex | treatment |\n",
       "|---|---|---|\n",
       "| sample1 | M | A |\n",
       "| sample2 | F | A |\n",
       "| sample3 | M | A |\n",
       "| sample4 | F | A |\n",
       "| sample5 | M | B |\n",
       "| sample6 | F | B |\n",
       "| sample7 | M | B |\n",
       "| sample8 | F | B |\n",
       "| sample9 | M | P |\n",
       "| sample10 | F | P |\n",
       "| sample11 | M | P |\n",
       "| sample12 | F | P |\n",
       "\n"
      ],
      "text/plain": [
       "         sex treatment\n",
       "sample1  M   A        \n",
       "sample2  F   A        \n",
       "sample3  M   A        \n",
       "sample4  F   A        \n",
       "sample5  M   B        \n",
       "sample6  F   B        \n",
       "sample7  M   B        \n",
       "sample8  F   B        \n",
       "sample9  M   P        \n",
       "sample10 F   P        \n",
       "sample11 M   P        \n",
       "sample12 F   P        "
      ]
     },
     "metadata": {},
     "output_type": "display_data"
    }
   ],
   "source": [
    "# Subsetting vectors/factors and dataframes\n",
    "# return only the treatment and sex columns using []\n",
    "meta[ , c(1,3)]"
   ]
  },
  {
   "cell_type": "code",
   "execution_count": 25,
   "id": "3b50cae8",
   "metadata": {},
   "outputs": [
    {
     "data": {
      "text/html": [
       "<ol class=list-inline>\n",
       "\t<li>B</li>\n",
       "\t<li>B</li>\n",
       "\t<li>P</li>\n",
       "\t<li>P</li>\n",
       "</ol>\n",
       "\n",
       "<details>\n",
       "\t<summary style=display:list-item;cursor:pointer>\n",
       "\t\t<strong>Levels</strong>:\n",
       "\t</summary>\n",
       "\t<ol class=list-inline>\n",
       "\t\t<li>'A'</li>\n",
       "\t\t<li>'B'</li>\n",
       "\t\t<li>'P'</li>\n",
       "\t</ol>\n",
       "</details>"
      ],
      "text/latex": [
       "\\begin{enumerate*}\n",
       "\\item B\n",
       "\\item B\n",
       "\\item P\n",
       "\\item P\n",
       "\\end{enumerate*}\n",
       "\n",
       "\\emph{Levels}: \\begin{enumerate*}\n",
       "\\item 'A'\n",
       "\\item 'B'\n",
       "\\item 'P'\n",
       "\\end{enumerate*}\n"
      ],
      "text/markdown": [
       "1. B\n",
       "2. B\n",
       "3. P\n",
       "4. P\n",
       "\n",
       "\n",
       "\n",
       "**Levels**: 1. 'A'\n",
       "2. 'B'\n",
       "3. 'P'\n",
       "\n",
       "\n"
      ],
      "text/plain": [
       "[1] B B P P\n",
       "Levels: A B P"
      ]
     },
     "metadata": {},
     "output_type": "display_data"
    }
   ],
   "source": [
    "# return the treatment values for samples 5, 7, 9, and 10 using []\n",
    "meta[c(5,7,9,10), 3]"
   ]
  },
  {
   "cell_type": "code",
   "execution_count": 26,
   "id": "96c7683b",
   "metadata": {},
   "outputs": [
    {
     "data": {
      "text/html": [
       "<table>\n",
       "<thead><tr><th></th><th scope=col>sex</th><th scope=col>stage</th><th scope=col>treatment</th><th scope=col>myc</th></tr></thead>\n",
       "<tbody>\n",
       "\t<tr><th scope=row>sample9</th><td>M   </td><td>II  </td><td>P   </td><td>8674</td></tr>\n",
       "\t<tr><th scope=row>sample10</th><td>F   </td><td>I   </td><td>P   </td><td>3424</td></tr>\n",
       "\t<tr><th scope=row>sample11</th><td>M   </td><td>II  </td><td>P   </td><td>463 </td></tr>\n",
       "\t<tr><th scope=row>sample12</th><td>F   </td><td>II  </td><td>P   </td><td>5105</td></tr>\n",
       "</tbody>\n",
       "</table>\n"
      ],
      "text/latex": [
       "\\begin{tabular}{r|llll}\n",
       "  & sex & stage & treatment & myc\\\\\n",
       "\\hline\n",
       "\tsample9 & M    & II   & P    & 8674\\\\\n",
       "\tsample10 & F    & I    & P    & 3424\\\\\n",
       "\tsample11 & M    & II   & P    & 463 \\\\\n",
       "\tsample12 & F    & II   & P    & 5105\\\\\n",
       "\\end{tabular}\n"
      ],
      "text/markdown": [
       "\n",
       "| <!--/--> | sex | stage | treatment | myc |\n",
       "|---|---|---|---|---|\n",
       "| sample9 | M    | II   | P    | 8674 |\n",
       "| sample10 | F    | I    | P    | 3424 |\n",
       "| sample11 | M    | II   | P    | 463  |\n",
       "| sample12 | F    | II   | P    | 5105 |\n",
       "\n"
      ],
      "text/plain": [
       "         sex stage treatment myc \n",
       "sample9  M   II    P         8674\n",
       "sample10 F   I     P         3424\n",
       "sample11 M   II    P         463 \n",
       "sample12 F   II    P         5105"
      ]
     },
     "metadata": {},
     "output_type": "display_data"
    }
   ],
   "source": [
    "# use subset() to return all data for those samples receiving treatment P\n",
    "subset(meta, treatment == \"P\")"
   ]
  },
  {
   "cell_type": "code",
   "execution_count": 32,
   "id": "a9ba187c",
   "metadata": {},
   "outputs": [
    {
     "name": "stderr",
     "output_type": "stream",
     "text": [
      "Warning message in Ops.factor(myc, 5000):\n",
      "\"'>' not meaningful for factors\""
     ]
    },
    {
     "data": {
      "text/html": [
       "<table>\n",
       "<thead><tr><th scope=col>stage</th><th scope=col>treatment</th></tr></thead>\n",
       "<tbody>\n",
       "</tbody>\n",
       "</table>\n"
      ],
      "text/latex": [
       "\\begin{tabular}{r|ll}\n",
       " stage & treatment\\\\\n",
       "\\hline\n",
       "\\end{tabular}\n"
      ],
      "text/markdown": [
       "\n",
       "| stage | treatment |\n",
       "|---|---|\n",
       "\n"
      ],
      "text/plain": [
       "     stage treatment"
      ]
     },
     "metadata": {},
     "output_type": "display_data"
    }
   ],
   "source": [
    "# use filter()/select()to return only the stage and treatment columns for those samples with myc > 5000\n",
    "subset(meta, myc > 5000, select = c(\"stage\", \"treatment\"))"
   ]
  },
  {
   "cell_type": "code",
   "execution_count": 33,
   "id": "74e6e068",
   "metadata": {},
   "outputs": [
    {
     "data": {
      "text/html": [
       "<table>\n",
       "<thead><tr><th></th><th scope=col>sex</th><th scope=col>stage</th><th scope=col>myc</th></tr></thead>\n",
       "<tbody>\n",
       "\t<tr><th scope=row>sample1</th><td>M   </td><td>I   </td><td>2343</td></tr>\n",
       "\t<tr><th scope=row>sample2</th><td>F   </td><td>II  </td><td>457 </td></tr>\n",
       "\t<tr><th scope=row>sample3</th><td>M   </td><td>II  </td><td>4593</td></tr>\n",
       "\t<tr><th scope=row>sample4</th><td>F   </td><td>I   </td><td>9035</td></tr>\n",
       "\t<tr><th scope=row>sample5</th><td>M   </td><td>II  </td><td>3450</td></tr>\n",
       "\t<tr><th scope=row>sample6</th><td>F   </td><td>II  </td><td>3524</td></tr>\n",
       "\t<tr><th scope=row>sample7</th><td>M   </td><td>I   </td><td>958 </td></tr>\n",
       "\t<tr><th scope=row>sample8</th><td>F   </td><td>II  </td><td>1053</td></tr>\n",
       "\t<tr><th scope=row>sample9</th><td>M   </td><td>II  </td><td>8674</td></tr>\n",
       "\t<tr><th scope=row>sample10</th><td>F   </td><td>I   </td><td>3424</td></tr>\n",
       "\t<tr><th scope=row>sample11</th><td>M   </td><td>II  </td><td>463 </td></tr>\n",
       "\t<tr><th scope=row>sample12</th><td>F   </td><td>II  </td><td>5105</td></tr>\n",
       "</tbody>\n",
       "</table>\n"
      ],
      "text/latex": [
       "\\begin{tabular}{r|lll}\n",
       "  & sex & stage & myc\\\\\n",
       "\\hline\n",
       "\tsample1 & M    & I    & 2343\\\\\n",
       "\tsample2 & F    & II   & 457 \\\\\n",
       "\tsample3 & M    & II   & 4593\\\\\n",
       "\tsample4 & F    & I    & 9035\\\\\n",
       "\tsample5 & M    & II   & 3450\\\\\n",
       "\tsample6 & F    & II   & 3524\\\\\n",
       "\tsample7 & M    & I    & 958 \\\\\n",
       "\tsample8 & F    & II   & 1053\\\\\n",
       "\tsample9 & M    & II   & 8674\\\\\n",
       "\tsample10 & F    & I    & 3424\\\\\n",
       "\tsample11 & M    & II   & 463 \\\\\n",
       "\tsample12 & F    & II   & 5105\\\\\n",
       "\\end{tabular}\n"
      ],
      "text/markdown": [
       "\n",
       "| <!--/--> | sex | stage | myc |\n",
       "|---|---|---|---|\n",
       "| sample1 | M    | I    | 2343 |\n",
       "| sample2 | F    | II   | 457  |\n",
       "| sample3 | M    | II   | 4593 |\n",
       "| sample4 | F    | I    | 9035 |\n",
       "| sample5 | M    | II   | 3450 |\n",
       "| sample6 | F    | II   | 3524 |\n",
       "| sample7 | M    | I    | 958  |\n",
       "| sample8 | F    | II   | 1053 |\n",
       "| sample9 | M    | II   | 8674 |\n",
       "| sample10 | F    | I    | 3424 |\n",
       "| sample11 | M    | II   | 463  |\n",
       "| sample12 | F    | II   | 5105 |\n",
       "\n"
      ],
      "text/plain": [
       "         sex stage myc \n",
       "sample1  M   I     2343\n",
       "sample2  F   II    457 \n",
       "sample3  M   II    4593\n",
       "sample4  F   I     9035\n",
       "sample5  M   II    3450\n",
       "sample6  F   II    3524\n",
       "sample7  M   I     958 \n",
       "sample8  F   II    1053\n",
       "sample9  M   II    8674\n",
       "sample10 F   I     3424\n",
       "sample11 M   II    463 \n",
       "sample12 F   II    5105"
      ]
     },
     "metadata": {},
     "output_type": "display_data"
    }
   ],
   "source": [
    "# remove the treatment column from the dataset using []\n",
    "meta[, -3]"
   ]
  },
  {
   "cell_type": "code",
   "execution_count": 34,
   "id": "d5def517",
   "metadata": {},
   "outputs": [
    {
     "data": {
      "text/html": [
       "<table>\n",
       "<thead><tr><th></th><th scope=col>sex</th><th scope=col>stage</th><th scope=col>treatment</th><th scope=col>myc</th></tr></thead>\n",
       "<tbody>\n",
       "\t<tr><th scope=row>sample1</th><td>M   </td><td>I   </td><td>A   </td><td>2343</td></tr>\n",
       "\t<tr><th scope=row>sample2</th><td>F   </td><td>II  </td><td>A   </td><td>457 </td></tr>\n",
       "\t<tr><th scope=row>sample3</th><td>M   </td><td>II  </td><td>A   </td><td>4593</td></tr>\n",
       "\t<tr><th scope=row>sample4</th><td>F   </td><td>I   </td><td>A   </td><td>9035</td></tr>\n",
       "\t<tr><th scope=row>sample5</th><td>M   </td><td>II  </td><td>B   </td><td>3450</td></tr>\n",
       "\t<tr><th scope=row>sample6</th><td>F   </td><td>II  </td><td>B   </td><td>3524</td></tr>\n",
       "\t<tr><th scope=row>sample10</th><td>F   </td><td>I   </td><td>P   </td><td>3424</td></tr>\n",
       "\t<tr><th scope=row>sample11</th><td>M   </td><td>II  </td><td>P   </td><td>463 </td></tr>\n",
       "\t<tr><th scope=row>sample12</th><td>F   </td><td>II  </td><td>P   </td><td>5105</td></tr>\n",
       "</tbody>\n",
       "</table>\n"
      ],
      "text/latex": [
       "\\begin{tabular}{r|llll}\n",
       "  & sex & stage & treatment & myc\\\\\n",
       "\\hline\n",
       "\tsample1 & M    & I    & A    & 2343\\\\\n",
       "\tsample2 & F    & II   & A    & 457 \\\\\n",
       "\tsample3 & M    & II   & A    & 4593\\\\\n",
       "\tsample4 & F    & I    & A    & 9035\\\\\n",
       "\tsample5 & M    & II   & B    & 3450\\\\\n",
       "\tsample6 & F    & II   & B    & 3524\\\\\n",
       "\tsample10 & F    & I    & P    & 3424\\\\\n",
       "\tsample11 & M    & II   & P    & 463 \\\\\n",
       "\tsample12 & F    & II   & P    & 5105\\\\\n",
       "\\end{tabular}\n"
      ],
      "text/markdown": [
       "\n",
       "| <!--/--> | sex | stage | treatment | myc |\n",
       "|---|---|---|---|---|\n",
       "| sample1 | M    | I    | A    | 2343 |\n",
       "| sample2 | F    | II   | A    | 457  |\n",
       "| sample3 | M    | II   | A    | 4593 |\n",
       "| sample4 | F    | I    | A    | 9035 |\n",
       "| sample5 | M    | II   | B    | 3450 |\n",
       "| sample6 | F    | II   | B    | 3524 |\n",
       "| sample10 | F    | I    | P    | 3424 |\n",
       "| sample11 | M    | II   | P    | 463  |\n",
       "| sample12 | F    | II   | P    | 5105 |\n",
       "\n"
      ],
      "text/plain": [
       "         sex stage treatment myc \n",
       "sample1  M   I     A         2343\n",
       "sample2  F   II    A         457 \n",
       "sample3  M   II    A         4593\n",
       "sample4  F   I     A         9035\n",
       "sample5  M   II    B         3450\n",
       "sample6  F   II    B         3524\n",
       "sample10 F   I     P         3424\n",
       "sample11 M   II    P         463 \n",
       "sample12 F   II    P         5105"
      ]
     },
     "metadata": {},
     "output_type": "display_data"
    }
   ],
   "source": [
    "# remove samples 7, 8 and 9 from the dataset using []\n",
    "meta[-7:-9, ]"
   ]
  },
  {
   "cell_type": "code",
   "execution_count": 35,
   "id": "d73f2bd9",
   "metadata": {},
   "outputs": [
    {
     "data": {
      "text/html": [
       "<table>\n",
       "<thead><tr><th></th><th scope=col>sex</th><th scope=col>stage</th><th scope=col>treatment</th><th scope=col>myc</th></tr></thead>\n",
       "<tbody>\n",
       "\t<tr><th scope=row>sample1</th><td>M   </td><td>I   </td><td>A   </td><td>2343</td></tr>\n",
       "\t<tr><th scope=row>sample2</th><td>F   </td><td>II  </td><td>A   </td><td>457 </td></tr>\n",
       "\t<tr><th scope=row>sample3</th><td>M   </td><td>II  </td><td>A   </td><td>4593</td></tr>\n",
       "\t<tr><th scope=row>sample4</th><td>F   </td><td>I   </td><td>A   </td><td>9035</td></tr>\n",
       "\t<tr><th scope=row>sample5</th><td>M   </td><td>II  </td><td>B   </td><td>3450</td></tr>\n",
       "\t<tr><th scope=row>sample6</th><td>F   </td><td>II  </td><td>B   </td><td>3524</td></tr>\n",
       "</tbody>\n",
       "</table>\n"
      ],
      "text/latex": [
       "\\begin{tabular}{r|llll}\n",
       "  & sex & stage & treatment & myc\\\\\n",
       "\\hline\n",
       "\tsample1 & M    & I    & A    & 2343\\\\\n",
       "\tsample2 & F    & II   & A    & 457 \\\\\n",
       "\tsample3 & M    & II   & A    & 4593\\\\\n",
       "\tsample4 & F    & I    & A    & 9035\\\\\n",
       "\tsample5 & M    & II   & B    & 3450\\\\\n",
       "\tsample6 & F    & II   & B    & 3524\\\\\n",
       "\\end{tabular}\n"
      ],
      "text/markdown": [
       "\n",
       "| <!--/--> | sex | stage | treatment | myc |\n",
       "|---|---|---|---|---|\n",
       "| sample1 | M    | I    | A    | 2343 |\n",
       "| sample2 | F    | II   | A    | 457  |\n",
       "| sample3 | M    | II   | A    | 4593 |\n",
       "| sample4 | F    | I    | A    | 9035 |\n",
       "| sample5 | M    | II   | B    | 3450 |\n",
       "| sample6 | F    | II   | B    | 3524 |\n",
       "\n"
      ],
      "text/plain": [
       "        sex stage treatment myc \n",
       "sample1 M   I     A         2343\n",
       "sample2 F   II    A         457 \n",
       "sample3 M   II    A         4593\n",
       "sample4 F   I     A         9035\n",
       "sample5 M   II    B         3450\n",
       "sample6 F   II    B         3524"
      ]
     },
     "metadata": {},
     "output_type": "display_data"
    }
   ],
   "source": [
    "# keep only samples 1-6 using []\n",
    "meta [1:6, ]"
   ]
  },
  {
   "cell_type": "code",
   "execution_count": 36,
   "id": "2173d582",
   "metadata": {},
   "outputs": [
    {
     "data": {
      "text/html": [
       "<table>\n",
       "<thead><tr><th></th><th scope=col>pre_treatment</th><th scope=col>sex</th><th scope=col>stage</th><th scope=col>treatment</th><th scope=col>myc</th></tr></thead>\n",
       "<tbody>\n",
       "\t<tr><th scope=row>sample1</th><td> TRUE</td><td>M    </td><td>I    </td><td>A    </td><td>2343 </td></tr>\n",
       "\t<tr><th scope=row>sample2</th><td>FALSE</td><td>F    </td><td>II   </td><td>A    </td><td>457  </td></tr>\n",
       "\t<tr><th scope=row>sample3</th><td>FALSE</td><td>M    </td><td>II   </td><td>A    </td><td>4593 </td></tr>\n",
       "\t<tr><th scope=row>sample4</th><td>FALSE</td><td>F    </td><td>I    </td><td>A    </td><td>9035 </td></tr>\n",
       "\t<tr><th scope=row>sample5</th><td> TRUE</td><td>M    </td><td>II   </td><td>B    </td><td>3450 </td></tr>\n",
       "\t<tr><th scope=row>sample6</th><td> TRUE</td><td>F    </td><td>II   </td><td>B    </td><td>3524 </td></tr>\n",
       "\t<tr><th scope=row>sample7</th><td>FALSE</td><td>M    </td><td>I    </td><td>B    </td><td>958  </td></tr>\n",
       "\t<tr><th scope=row>sample8</th><td> TRUE</td><td>F    </td><td>II   </td><td>B    </td><td>1053 </td></tr>\n",
       "\t<tr><th scope=row>sample9</th><td>FALSE</td><td>M    </td><td>II   </td><td>P    </td><td>8674 </td></tr>\n",
       "\t<tr><th scope=row>sample10</th><td>FALSE</td><td>F    </td><td>I    </td><td>P    </td><td>3424 </td></tr>\n",
       "\t<tr><th scope=row>sample11</th><td> TRUE</td><td>M    </td><td>II   </td><td>P    </td><td>463  </td></tr>\n",
       "\t<tr><th scope=row>sample12</th><td> TRUE</td><td>F    </td><td>II   </td><td>P    </td><td>5105 </td></tr>\n",
       "</tbody>\n",
       "</table>\n"
      ],
      "text/latex": [
       "\\begin{tabular}{r|lllll}\n",
       "  & pre\\_treatment & sex & stage & treatment & myc\\\\\n",
       "\\hline\n",
       "\tsample1 &  TRUE & M     & I     & A     & 2343 \\\\\n",
       "\tsample2 & FALSE & F     & II    & A     & 457  \\\\\n",
       "\tsample3 & FALSE & M     & II    & A     & 4593 \\\\\n",
       "\tsample4 & FALSE & F     & I     & A     & 9035 \\\\\n",
       "\tsample5 &  TRUE & M     & II    & B     & 3450 \\\\\n",
       "\tsample6 &  TRUE & F     & II    & B     & 3524 \\\\\n",
       "\tsample7 & FALSE & M     & I     & B     & 958  \\\\\n",
       "\tsample8 &  TRUE & F     & II    & B     & 1053 \\\\\n",
       "\tsample9 & FALSE & M     & II    & P     & 8674 \\\\\n",
       "\tsample10 & FALSE & F     & I     & P     & 3424 \\\\\n",
       "\tsample11 &  TRUE & M     & II    & P     & 463  \\\\\n",
       "\tsample12 &  TRUE & F     & II    & P     & 5105 \\\\\n",
       "\\end{tabular}\n"
      ],
      "text/markdown": [
       "\n",
       "| <!--/--> | pre_treatment | sex | stage | treatment | myc |\n",
       "|---|---|---|---|---|---|\n",
       "| sample1 |  TRUE | M     | I     | A     | 2343  |\n",
       "| sample2 | FALSE | F     | II    | A     | 457   |\n",
       "| sample3 | FALSE | M     | II    | A     | 4593  |\n",
       "| sample4 | FALSE | F     | I     | A     | 9035  |\n",
       "| sample5 |  TRUE | M     | II    | B     | 3450  |\n",
       "| sample6 |  TRUE | F     | II    | B     | 3524  |\n",
       "| sample7 | FALSE | M     | I     | B     | 958   |\n",
       "| sample8 |  TRUE | F     | II    | B     | 1053  |\n",
       "| sample9 | FALSE | M     | II    | P     | 8674  |\n",
       "| sample10 | FALSE | F     | I     | P     | 3424  |\n",
       "| sample11 |  TRUE | M     | II    | P     | 463   |\n",
       "| sample12 |  TRUE | F     | II    | P     | 5105  |\n",
       "\n"
      ],
      "text/plain": [
       "         pre_treatment sex stage treatment myc \n",
       "sample1   TRUE         M   I     A         2343\n",
       "sample2  FALSE         F   II    A         457 \n",
       "sample3  FALSE         M   II    A         4593\n",
       "sample4  FALSE         F   I     A         9035\n",
       "sample5   TRUE         M   II    B         3450\n",
       "sample6   TRUE         F   II    B         3524\n",
       "sample7  FALSE         M   I     B         958 \n",
       "sample8   TRUE         F   II    B         1053\n",
       "sample9  FALSE         M   II    P         8674\n",
       "sample10 FALSE         F   I     P         3424\n",
       "sample11  TRUE         M   II    P         463 \n",
       "sample12  TRUE         F   II    P         5105"
      ]
     },
     "metadata": {},
     "output_type": "display_data"
    }
   ],
   "source": [
    "# add a column called pre_treatment to the beginning of the dataframe with the values T, F, F, F, T, T, F, T, F, F, T, T (Hint: use cbind())\n",
    "pre_treatment <- c(T, F, F, F, T, T, F, T, F, F, T, T)\n",
    "cbind(pre_treatment, meta)"
   ]
  },
  {
   "cell_type": "code",
   "execution_count": 38,
   "id": "d32a312f",
   "metadata": {},
   "outputs": [
    {
     "data": {
      "text/html": [
       "<table>\n",
       "<thead><tr><th></th><th scope=col>A</th><th scope=col>B</th><th scope=col>C</th><th scope=col>D</th></tr></thead>\n",
       "<tbody>\n",
       "\t<tr><th scope=row>sample1</th><td>M   </td><td>I   </td><td>A   </td><td>2343</td></tr>\n",
       "\t<tr><th scope=row>sample2</th><td>F   </td><td>II  </td><td>A   </td><td>457 </td></tr>\n",
       "\t<tr><th scope=row>sample3</th><td>M   </td><td>II  </td><td>A   </td><td>4593</td></tr>\n",
       "\t<tr><th scope=row>sample4</th><td>F   </td><td>I   </td><td>A   </td><td>9035</td></tr>\n",
       "\t<tr><th scope=row>sample5</th><td>M   </td><td>II  </td><td>B   </td><td>3450</td></tr>\n",
       "\t<tr><th scope=row>sample6</th><td>F   </td><td>II  </td><td>B   </td><td>3524</td></tr>\n",
       "\t<tr><th scope=row>sample7</th><td>M   </td><td>I   </td><td>B   </td><td>958 </td></tr>\n",
       "\t<tr><th scope=row>sample8</th><td>F   </td><td>II  </td><td>B   </td><td>1053</td></tr>\n",
       "\t<tr><th scope=row>sample9</th><td>M   </td><td>II  </td><td>P   </td><td>8674</td></tr>\n",
       "\t<tr><th scope=row>sample10</th><td>F   </td><td>I   </td><td>P   </td><td>3424</td></tr>\n",
       "\t<tr><th scope=row>sample11</th><td>M   </td><td>II  </td><td>P   </td><td>463 </td></tr>\n",
       "\t<tr><th scope=row>sample12</th><td>F   </td><td>II  </td><td>P   </td><td>5105</td></tr>\n",
       "</tbody>\n",
       "</table>\n"
      ],
      "text/latex": [
       "\\begin{tabular}{r|llll}\n",
       "  & A & B & C & D\\\\\n",
       "\\hline\n",
       "\tsample1 & M    & I    & A    & 2343\\\\\n",
       "\tsample2 & F    & II   & A    & 457 \\\\\n",
       "\tsample3 & M    & II   & A    & 4593\\\\\n",
       "\tsample4 & F    & I    & A    & 9035\\\\\n",
       "\tsample5 & M    & II   & B    & 3450\\\\\n",
       "\tsample6 & F    & II   & B    & 3524\\\\\n",
       "\tsample7 & M    & I    & B    & 958 \\\\\n",
       "\tsample8 & F    & II   & B    & 1053\\\\\n",
       "\tsample9 & M    & II   & P    & 8674\\\\\n",
       "\tsample10 & F    & I    & P    & 3424\\\\\n",
       "\tsample11 & M    & II   & P    & 463 \\\\\n",
       "\tsample12 & F    & II   & P    & 5105\\\\\n",
       "\\end{tabular}\n"
      ],
      "text/markdown": [
       "\n",
       "| <!--/--> | A | B | C | D |\n",
       "|---|---|---|---|---|\n",
       "| sample1 | M    | I    | A    | 2343 |\n",
       "| sample2 | F    | II   | A    | 457  |\n",
       "| sample3 | M    | II   | A    | 4593 |\n",
       "| sample4 | F    | I    | A    | 9035 |\n",
       "| sample5 | M    | II   | B    | 3450 |\n",
       "| sample6 | F    | II   | B    | 3524 |\n",
       "| sample7 | M    | I    | B    | 958  |\n",
       "| sample8 | F    | II   | B    | 1053 |\n",
       "| sample9 | M    | II   | P    | 8674 |\n",
       "| sample10 | F    | I    | P    | 3424 |\n",
       "| sample11 | M    | II   | P    | 463  |\n",
       "| sample12 | F    | II   | P    | 5105 |\n",
       "\n"
      ],
      "text/plain": [
       "         A B  C D   \n",
       "sample1  M I  A 2343\n",
       "sample2  F II A 457 \n",
       "sample3  M II A 4593\n",
       "sample4  F I  A 9035\n",
       "sample5  M II B 3450\n",
       "sample6  F II B 3524\n",
       "sample7  M I  B 958 \n",
       "sample8  F II B 1053\n",
       "sample9  M II P 8674\n",
       "sample10 F I  P 3424\n",
       "sample11 M II P 463 \n",
       "sample12 F II P 5105"
      ]
     },
     "metadata": {},
     "output_type": "display_data"
    }
   ],
   "source": [
    "# change the names of the columns to: “A”, “B”, “C”, “D”\n",
    "colnames(meta) <- c(\"A\", \"B\", \"C\", \"D\")\n",
    "meta"
   ]
  },
  {
   "cell_type": "markdown",
   "id": "2ce0735d",
   "metadata": {},
   "source": []
  }
 ],
 "metadata": {
  "kernelspec": {
   "display_name": "R",
   "language": "R",
   "name": "ir"
  },
  "language_info": {
   "codemirror_mode": "r",
   "file_extension": ".r",
   "mimetype": "text/x-r-source",
   "name": "R",
   "pygments_lexer": "r",
   "version": "3.6.1"
  }
 },
 "nbformat": 4,
 "nbformat_minor": 5
}
