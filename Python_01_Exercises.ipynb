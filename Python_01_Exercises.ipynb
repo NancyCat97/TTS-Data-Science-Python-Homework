{
 "cells": [
  {
   "cell_type": "markdown",
   "id": "630e7a18",
   "metadata": {},
   "source": [
    "<b> Exercises for Python Module 1 </b>\n",
    "\n",
    "Make sure to comment all your code!"
   ]
  },
  {
   "cell_type": "markdown",
   "id": "27e339a6",
   "metadata": {},
   "source": [
    "Accept the user's first and last name and print them in reverse order with a space between them. \n",
    "\n",
    "Keyword hints: print function, input function, append, add, string"
   ]
  },
  {
   "cell_type": "code",
   "execution_count": 4,
   "id": "622a3ae7",
   "metadata": {},
   "outputs": [
    {
     "name": "stdout",
     "output_type": "stream",
     "text": [
      "Please enter your first name: \n",
      "Nancy\n",
      "Please enter your last name: \n",
      "Hintersteiner\n",
      "Hintersteiner Nancy\n"
     ]
    }
   ],
   "source": [
    "# Get the user's first and last name\n",
    "print('Please enter your first name: ')\n",
    "firstname = input()\n",
    "print('Please enter your last name: ')\n",
    "lastname = input()\n",
    "# print in reverse order, last name then first name, with a space between them\n",
    "newname = lastname + ' ' + firstname\n",
    "print(newname)"
   ]
  },
  {
   "cell_type": "markdown",
   "id": "ea977dfc",
   "metadata": {},
   "source": [
    "Ask the user \"What country are you from?\" then print the following statement: \"I have heard that [input] is a beautiful country!\""
   ]
  },
  {
   "cell_type": "code",
   "execution_count": 5,
   "id": "f6b2cc68",
   "metadata": {},
   "outputs": [
    {
     "name": "stdout",
     "output_type": "stream",
     "text": [
      "What country are you from?\n",
      "United States\n",
      "I have heard that United States is a beautiful country!\n"
     ]
    }
   ],
   "source": [
    "# Ask the user what country they are from\n",
    "print('What country are you from?')\n",
    "country = input()\n",
    "# Print output that the user's country is beautiful\n",
    "print('I have heard that ' + country + ' is a beautiful country!')"
   ]
  },
  {
   "cell_type": "markdown",
   "id": "217d837d",
   "metadata": {},
   "source": [
    "Explain the output for:\n",
    "\n",
    "x = 36 / 4 * (3 +  2) * 4 + 2"
   ]
  },
  {
   "cell_type": "code",
   "execution_count": 10,
   "id": "8247422a",
   "metadata": {},
   "outputs": [
    {
     "name": "stdout",
     "output_type": "stream",
     "text": [
      "182.0\n",
      "182\n"
     ]
    }
   ],
   "source": [
    "x = 36 / 4 * (3 + 2) * 4 + 2\n",
    "print(x)\n",
    "# The result is 182.0.  It's a float rather than an integer because / is float division.\n",
    "# You can get an integer by using // instead of / or by converting x to an int as follows:\n",
    "y = int(x)\n",
    "print(y)\n",
    "# We are using the normal mathematical order of operations (PEMDAS)."
   ]
  },
  {
   "cell_type": "markdown",
   "id": "7b77d65d",
   "metadata": {},
   "source": [
    "What is the output of the following code and what arithmetic operators is being used here? \n",
    "\n",
    "print(2%6)"
   ]
  },
  {
   "cell_type": "code",
   "execution_count": 12,
   "id": "a819b258",
   "metadata": {},
   "outputs": [
    {
     "name": "stdout",
     "output_type": "stream",
     "text": [
      "2\n"
     ]
    }
   ],
   "source": [
    "print(2%6) # Output is 2.\n",
    "# The % is the modulus operator, which is the remainder when dividing (in this case) 2 by 6.\n",
    "# 2 divided by 6 is 0, remainder 2."
   ]
  },
  {
   "cell_type": "markdown",
   "id": "b2f2fe38",
   "metadata": {},
   "source": [
    "What is the output of the following code and what arithmetic operators are used here? \n",
    "\n",
    "print(2 * 3 ** 3 * 4)"
   ]
  },
  {
   "cell_type": "code",
   "execution_count": 11,
   "id": "5a218db8",
   "metadata": {},
   "outputs": [
    {
     "name": "stdout",
     "output_type": "stream",
     "text": [
      "216\n"
     ]
    }
   ],
   "source": [
    "print(2 * 3 ** 3 * 4) # Output is 216.\n",
    "# The * operator is multiplication.  The ** multiplier is for exponent.\n",
    "# The exponent is calculated first, so 2 * 3 ** 3 * 4 = 2 * 27 * 4 = 216 "
   ]
  },
  {
   "cell_type": "markdown",
   "id": "c7ccc477",
   "metadata": {},
   "source": [
    "Accept an integer (n) and compute the value of n+nn+nnn. For example, if n = 4, then n+nn+nnn should equal 492. \n",
    "\n",
    "Keyword hints: Hint(4+44+444)"
   ]
  },
  {
   "cell_type": "code",
   "execution_count": 14,
   "id": "34078483",
   "metadata": {},
   "outputs": [
    {
     "name": "stdout",
     "output_type": "stream",
     "text": [
      "Please enter an integer: \n",
      "4\n",
      "Your result is  492\n"
     ]
    }
   ],
   "source": [
    "# Accept an integer\n",
    "print('Please enter an integer: ')\n",
    "n = input()\n",
    "# Compute the result\n",
    "result = int(n) + int(n+n) + int(n+n+n)\n",
    "# Print the result\n",
    "print('Your result is ', result)\n"
   ]
  },
  {
   "cell_type": "markdown",
   "id": "cc9d29ed",
   "metadata": {},
   "source": [
    "What is an IDE?"
   ]
  },
  {
   "cell_type": "code",
   "execution_count": null,
   "id": "8bd82147",
   "metadata": {},
   "outputs": [],
   "source": [
    "# IDE = Integrated Development Environment\n",
    "# They are useful for writing, editing, debugging, and testing code.\n",
    "# They can do such things as highlight syntax and complete code (e.g. closing the appropriate HTML tag)."
   ]
  },
  {
   "cell_type": "markdown",
   "id": "f702b1de",
   "metadata": {},
   "source": [
    "What is a Text Editor?"
   ]
  },
  {
   "cell_type": "code",
   "execution_count": null,
   "id": "8376072d",
   "metadata": {},
   "outputs": [],
   "source": [
    "# A text editor allows you to type plain text.  Examples: Notepad, vim"
   ]
  },
  {
   "cell_type": "markdown",
   "id": "bc31d150",
   "metadata": {},
   "source": [
    "What is  filepath?"
   ]
  },
  {
   "cell_type": "code",
   "execution_count": null,
   "id": "1526b4ee",
   "metadata": {},
   "outputs": [],
   "source": [
    "# A file path indicates the location of a file or directory.\n",
    "# Example (Mac): /Users/nancy/Development/TTS-Data-Science-Python-Homework is the directory where I am\n",
    "# storing my homework exercises for this course on my local machine."
   ]
  },
  {
   "cell_type": "markdown",
   "id": "1a8bf765",
   "metadata": {},
   "source": [
    "Describe Python as a programming language?"
   ]
  },
  {
   "cell_type": "code",
   "execution_count": null,
   "id": "fd96c663",
   "metadata": {},
   "outputs": [],
   "source": [
    "# Python is an object-oriented programming language, emphasizing code readability.\n",
    "# It is particularly favored in the data science community."
   ]
  },
  {
   "cell_type": "markdown",
   "id": "479cc46c",
   "metadata": {},
   "source": [
    "What is Jupyter Notebook, and how does it differ from other IDEs such as VSCode?"
   ]
  },
  {
   "cell_type": "code",
   "execution_count": null,
   "id": "b0ab1b33",
   "metadata": {},
   "outputs": [],
   "source": [
    "# Jupyter Notebook is an environment for coding and showing code with documentation and visualization.\n",
    "# Unlike other IDEs, it allows code to be separated with text, which helps with documentation."
   ]
  },
  {
   "cell_type": "markdown",
   "id": "8b78b231",
   "metadata": {},
   "source": [
    "What is the difference between a \"code\" cell (at the top of your notebook) and a \"markdown\" cell?"
   ]
  },
  {
   "cell_type": "code",
   "execution_count": null,
   "id": "e2fad868",
   "metadata": {},
   "outputs": [],
   "source": [
    "# Code cells can run Python.  Markdown cells are for writing and formatting text."
   ]
  },
  {
   "cell_type": "markdown",
   "id": "d4fcc215",
   "metadata": {},
   "source": [
    "Describe each operator catagory: (Notebook 01_03)"
   ]
  },
  {
   "cell_type": "code",
   "execution_count": null,
   "id": "e342b817",
   "metadata": {},
   "outputs": [],
   "source": [
    "# Arithmetic (+, -, etc)\n",
    "# Bitwise (& (AND), | (OR), etc)\n",
    "# Assignment (e.g. = to assign a value to a variable)\n",
    "# Boolean (e.g. 'and', 'or', 'not')\n",
    "# Identity ('is', 'is not')\n",
    "# Membership ('in', 'not in')"
   ]
  },
  {
   "cell_type": "markdown",
   "id": "7d048f8c",
   "metadata": {},
   "source": [
    "Describe what the phrase \"everything is an object\" means in Python; what is an object?"
   ]
  },
  {
   "cell_type": "code",
   "execution_count": null,
   "id": "185d1f68",
   "metadata": {},
   "outputs": [],
   "source": [
    "# An object contains data (attributes) and functionality (methods).\n",
    "# Everything is an object.  Some types of objects (e.g. lists) are already defined, and\n",
    "# you can make your own objects via classes."
   ]
  }
 ],
 "metadata": {
  "kernelspec": {
   "display_name": "Python 3 (ipykernel)",
   "language": "python",
   "name": "python3"
  },
  "language_info": {
   "codemirror_mode": {
    "name": "ipython",
    "version": 3
   },
   "file_extension": ".py",
   "mimetype": "text/x-python",
   "name": "python",
   "nbconvert_exporter": "python",
   "pygments_lexer": "ipython3",
   "version": "3.10.11"
  }
 },
 "nbformat": 4,
 "nbformat_minor": 5
}
